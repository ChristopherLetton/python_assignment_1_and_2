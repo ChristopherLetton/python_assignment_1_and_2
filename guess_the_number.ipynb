{
 "cells": [
  {
   "cell_type": "code",
   "execution_count": 2,
   "metadata": {},
   "outputs": [
    {
     "name": "stdout",
     "output_type": "stream",
     "text": [
      "hidden_number 62\n",
      "user_guess 45\n",
      "You guessed too small!\n",
      "user_guess 65\n",
      "You guessed too large!\n",
      "user_guess 62\n",
      "You guessed correctly!\n"
     ]
    }
   ],
   "source": [
    "import random\n",
    "\n",
    "hidden_number = random.randint(0, 100)\n",
    "print(\"hidden_number\", hidden_number)\n",
    "\n",
    "while True:\n",
    "    user_input = input('Guess a number?')\n",
    "\n",
    "    if not user_input:\n",
    "        print(\"Please enter a non-empty input\")\n",
    "        continue\n",
    "\n",
    "    try:\n",
    "        user_guess = int(user_input)\n",
    "        print(\"user_guess\", user_guess)\n",
    "\n",
    "        if user_guess == hidden_number:\n",
    "            print(\"You guessed correctly!\")\n",
    "            break\n",
    "        elif user_guess < hidden_number:\n",
    "            print(\"You guessed too small!\")\n",
    "        else:\n",
    "            print(\"You guessed too large!\")\n",
    "\n",
    "    except ValueError:\n",
    "        print(\"Please enter a valid integer.\")"
   ]
  }
 ],
 "metadata": {
  "kernelspec": {
   "display_name": "Python 3",
   "language": "python",
   "name": "python3"
  },
  "language_info": {
   "codemirror_mode": {
    "name": "ipython",
    "version": 3
   },
   "file_extension": ".py",
   "mimetype": "text/x-python",
   "name": "python",
   "nbconvert_exporter": "python",
   "pygments_lexer": "ipython3",
   "version": "3.9.12"
  }
 },
 "nbformat": 4,
 "nbformat_minor": 2
}
