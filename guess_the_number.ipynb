{
 "cells": [
  {
   "cell_type": "code",
   "execution_count": null,
   "metadata": {},
   "outputs": [],
   "source": [
    "#Project Brief\n",
    "\n",
    "# This project uses the random module in Python. The program will first randomly generate a\n",
    "# number unknown to the user. The user needs to guess what that number is. (In other words, the\n",
    "# user needs to be able to input information.) If the user’s guess is wrong, the program should\n",
    "# return some sort of indication as to how wrong (e.g. The number is too high or too low). If the\n",
    "# user guesses correctly, a positive indication should appear. You’ll need functions to check if the\n",
    "# user input is an actual number, to see the difference between the inputted number and the\n",
    "# randomly generated numbers, and to then compare the numbers."
   ]
  },
  {
   "cell_type": "code",
   "execution_count": null,
   "metadata": {},
   "outputs": [],
   "source": [
    "import random\n",
    "\n",
    "hidden_number = random.randint(0, 100)\n",
    "\n",
    "while True:\n",
    "    user_input = input('Guess a number?')\n",
    "\n",
    "    if not user_input:\n",
    "        print(\"Please enter an input\")\n",
    "        continue\n",
    "\n",
    "    try:\n",
    "        user_guess = int(user_input)\n",
    "\n",
    "        if user_guess == hidden_number:\n",
    "            print(\"You guessed correctly!\")\n",
    "            break\n",
    "        elif user_guess < hidden_number:\n",
    "            print(f\"{user_guess} too small!\")\n",
    "        elif user_guess > hidden_number:\n",
    "            print(f\"{user_guess} too large!\")\n",
    "\n",
    "    except ValueError:\n",
    "        print(\"Please enter an integer\")"
   ]
  }
 ],
 "metadata": {
  "kernelspec": {
   "display_name": "Python 3",
   "language": "python",
   "name": "python3"
  },
  "language_info": {
   "codemirror_mode": {
    "name": "ipython",
    "version": 3
   },
   "file_extension": ".py",
   "mimetype": "text/x-python",
   "name": "python",
   "nbconvert_exporter": "python",
   "pygments_lexer": "ipython3",
   "version": "3.9.12"
  }
 },
 "nbformat": 4,
 "nbformat_minor": 2
}
