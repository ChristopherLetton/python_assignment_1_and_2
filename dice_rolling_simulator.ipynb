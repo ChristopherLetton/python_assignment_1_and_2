{
 "cells": [
  {
   "cell_type": "code",
   "execution_count": null,
   "metadata": {},
   "outputs": [],
   "source": [
    "#Project Brief\n",
    "\n",
    "# This program simulates rolling a dice. When the program runs, it will randomly choose a number between 1 and 6.\n",
    "# The program will print what that number is. It will ask you if you’d like to roll again. For this project, you’ll need\n",
    "# to set the min and max number that your dice can produce. For the average die, that means a\n",
    "# minimum of 1 and a maximum of 6. You’ll also want a function that randomly grabs a number\n",
    "# within that range and prints it."
   ]
  },
  {
   "cell_type": "code",
   "execution_count": null,
   "metadata": {},
   "outputs": [],
   "source": [
    "import random\n",
    "\n",
    "while True:\n",
    "    # generate random number between 1 and 6\n",
    "    random_result = random.randint(1, 6)\n",
    "\n",
    "    user_answer = input('Would you like to roll again? Please type yes or no: ')\n",
    "\n",
    "    if user_answer.lower() not in [\"yes\", \"no\"]:\n",
    "        print(\"Please enter 'yes' or 'no'.\")\n",
    "        continue\n",
    "    elif user_answer.lower() == \"yes\":\n",
    "        print(random_result)\n",
    "        continue\n",
    "    elif user_answer.lower() == \"no\":\n",
    "        break\n",
    "\n",
    "\n"
   ]
  }
 ],
 "metadata": {
  "kernelspec": {
   "display_name": "Python 3",
   "language": "python",
   "name": "python3"
  },
  "language_info": {
   "codemirror_mode": {
    "name": "ipython",
    "version": 3
   },
   "file_extension": ".py",
   "mimetype": "text/x-python",
   "name": "python",
   "nbconvert_exporter": "python",
   "pygments_lexer": "ipython3",
   "version": "3.9.12"
  }
 },
 "nbformat": 4,
 "nbformat_minor": 2
}
